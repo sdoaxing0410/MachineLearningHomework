{
 "cells": [
  {
   "cell_type": "markdown",
   "metadata": {},
   "source": [
    "# 编程作业 3 - 多类分类"
   ]
  },
  {
   "cell_type": "markdown",
   "metadata": {
    "collapsed": true
   },
   "source": [
    "对于此练习，我们将使用逻辑回归来识别手写数字（0到9）。 我们将扩展我们在练习2中写的逻辑回归的实现，并将其应用于一对一的分类。 让我们开始加载数据集。 它是在MATLAB的本机格式，所以要加载它在Python，我们需要使用一个SciPy工具。"
   ]
  },
  {
   "cell_type": "code",
   "execution_count": 1,
   "metadata": {},
   "outputs": [],
   "source": [
    "import numpy as np\n",
    "import pandas as pd\n",
    "import matplotlib.pyplot as plt\n",
    "from scipy.io import loadmat"
   ]
  },
  {
   "cell_type": "code",
   "execution_count": 2,
   "metadata": {
    "scrolled": true
   },
   "outputs": [
    {
     "data": {
      "text/plain": [
       "{'__header__': b'MATLAB 5.0 MAT-file, Platform: GLNXA64, Created on: Sun Oct 16 13:09:09 2011',\n",
       " '__version__': '1.0',\n",
       " '__globals__': [],\n",
       " 'X': array([[0., 0., 0., ..., 0., 0., 0.],\n",
       "        [0., 0., 0., ..., 0., 0., 0.],\n",
       "        [0., 0., 0., ..., 0., 0., 0.],\n",
       "        ...,\n",
       "        [0., 0., 0., ..., 0., 0., 0.],\n",
       "        [0., 0., 0., ..., 0., 0., 0.],\n",
       "        [0., 0., 0., ..., 0., 0., 0.]]),\n",
       " 'y': array([[10],\n",
       "        [10],\n",
       "        [10],\n",
       "        ...,\n",
       "        [ 9],\n",
       "        [ 9],\n",
       "        [ 9]], dtype=uint8)}"
      ]
     },
     "execution_count": 2,
     "metadata": {},
     "output_type": "execute_result"
    }
   ],
   "source": [
    "data = loadmat('ex3data1.mat')\n",
    "data"
   ]
  },
  {
   "cell_type": "code",
   "execution_count": 3,
   "metadata": {},
   "outputs": [
    {
     "data": {
      "text/plain": [
       "((5000, 400), (5000, 1))"
      ]
     },
     "execution_count": 3,
     "metadata": {},
     "output_type": "execute_result"
    }
   ],
   "source": [
    "data['X'].shape, data['y'].shape"
   ]
  },
  {
   "cell_type": "markdown",
   "metadata": {},
   "source": [
    "好的，我们已经加载了我们的数据。图像在martix X中表示为400维向量（其中有5,000个）。 400维“特征”是原始20 x 20图像中每个像素的灰度强度。类标签在向量y中作为表示图像中数字的数字类。\n",
    "\n",
    "\n",
    "第一个任务是将我们的逻辑回归实现修改为完全向量化（即没有“for”循环）。这是因为向量化代码除了简洁外，还能够利用线性代数优化，并且通常比迭代代码快得多。但是，如果从练习2中看到我们的代价函数已经完全向量化实现了，所以我们可以在这里重复使用相同的实现。"
   ]
  },
  {
   "cell_type": "markdown",
   "metadata": {},
   "source": [
    "# sigmoid 函数\n",
    "g 代表一个常用的逻辑函数（logistic function）为S形函数（Sigmoid function），公式为： \\\\[g\\left( z \\right)=\\frac{1}{1+{{e}^{-z}}}\\\\] \n",
    "合起来，我们得到逻辑回归模型的假设函数： \n",
    "\t\\\\[{{h}_{\\theta }}\\left( x \\right)=\\frac{1}{1+{{e}^{-{{\\theta }^{T}}X}}}\\\\] "
   ]
  },
  {
   "cell_type": "code",
   "execution_count": 4,
   "metadata": {},
   "outputs": [],
   "source": [
    "def sigmoid(z):\n",
    "    return 1 / (1 + np.exp(-z))"
   ]
  },
  {
   "cell_type": "markdown",
   "metadata": {},
   "source": [
    "代价函数：\n",
    "$$J\\left( \\theta  \\right)=\\frac{1}{m}\\sum\\limits_{i=1}^{m}{[-{{y}^{(i)}}\\log \\left( {{h}_{\\theta }}\\left( {{x}^{(i)}} \\right) \\right)-\\left( 1-{{y}^{(i)}} \\right)\\log \\left( 1-{{h}_{\\theta }}\\left( {{x}^{(i)}} \\right) \\right)]}+\\frac{\\lambda }{2m}\\sum\\limits_{j=1}^{n}{\\theta _{j}^{2}}$$\n",
    "\n",
    "Tip：可以通过np.matrix()函数将一个变量转换为numpy型矩阵"
   ]
  },
  {
   "cell_type": "code",
   "execution_count": 51,
   "metadata": {},
   "outputs": [],
   "source": [
    "def cost(theta, X, y, learningRate):\n",
    "    # INPUT：参数值theta，数据X，标签y，学习率\n",
    "    # OUTPUT：当前参数值下的交叉熵损失\n",
    "    # TODO：根据参数和输入的数据计算交叉熵损失函数\n",
    "    \n",
    "    # STEP1：将theta, X, y转换为numpy类型的矩阵\n",
    "    # your code here  (appro ~ 3 lines)\n",
    "    theta = np.matrix(theta) # (1,401)\n",
    "    X = np.matrix(X) # (5000,401)\n",
    "    y = np.matrix(y) # (5000,1)\n",
    "    \n",
    "    # STEP2：根据公式计算损失函数（不含正则化）\n",
    "    # your code here  (appro ~ 2 lines)\n",
    "\n",
    "    #  *代表二维矩阵对应元素相乘，和multiply一样，@(.dot())矩阵乘法同线性代数中的\n",
    "    cross_cost = np.multiply(-y, np.log(sigmoid(X @ theta.T)))-np.multiply(1-y, np.log(1-sigmoid(X @ theta.T)))\n",
    "    \n",
    "    # STEP3：根据公式计算损失函数中的正则化部分\n",
    "    # your code here  (appro ~ 1 lines)\n",
    "    reg = (learningRate / (2 * len(X))) * np.power(theta[1:], 2).sum()\n",
    "   \n",
    "    # STEP4：把上两步当中的结果加起来得到整体损失函数\n",
    "    # your code here  (appro ~ 1 lines)\n",
    "    whole_cost = np.sum(cross_cost)/len(X)+reg\n",
    "    \n",
    "    return whole_cost"
   ]
  },
  {
   "cell_type": "markdown",
   "metadata": {},
   "source": [
    "如果我们要使用梯度下降法令这个代价函数最小化，因为我们未对${{\\theta }_{0}}$ 进行正则化，所以梯度下降算法将分两种情形：\n",
    "\\begin{align}\n",
    "  & Repeat\\text{ }until\\text{ }convergence\\text{ }\\!\\!\\{\\!\\!\\text{ } \\\\ \n",
    " & \\text{     }{{\\theta }_{0}}:={{\\theta }_{0}}-a\\frac{1}{m}\\sum\\limits_{i=1}^{m}{[{{h}_{\\theta }}\\left( {{x}^{(i)}} \\right)-{{y}^{(i)}}]x_{_{0}}^{(i)}} \\\\ \n",
    " & \\text{     }{{\\theta }_{j}}:={{\\theta }_{j}}-a\\frac{1}{m}\\sum\\limits_{i=1}^{m}{[{{h}_{\\theta }}\\left( {{x}^{(i)}} \\right)-{{y}^{(i)}}]x_{j}^{(i)}}+\\frac{\\lambda }{m}{{\\theta }_{j}} \\\\ \n",
    " & \\text{          }\\!\\!\\}\\!\\!\\text{ } \\\\ \n",
    " & Repeat \\\\ \n",
    "\\end{align}\n"
   ]
  },
  {
   "cell_type": "markdown",
   "metadata": {},
   "source": [
    "向量化的梯度函数"
   ]
  },
  {
   "cell_type": "code",
   "execution_count": 52,
   "metadata": {},
   "outputs": [],
   "source": [
    "def gradient(theta, X, y, learningRate):\n",
    "    # INPUT：参数值theta，数据X，标签y，学习率\n",
    "    # OUTPUT：当前参数值下的梯度\n",
    "    # TODO：根据参数和输入的数据计算梯度\n",
    "    \n",
    "    # STEP1：将theta, X, y转换为numpy类型的矩阵\n",
    "    # your code here  (appro ~ 3 lines)\n",
    "    theta = np.matrix(theta) # (1,401)\n",
    "    X = np.matrix(X) # (5000,401)\n",
    "    y = np.matrix(y)\n",
    "    \n",
    "    # STEP2：将theta矩阵拉直（转换为一个向量）\n",
    "    # your code here  (appro ~ 1 lines)\n",
    "    parameters = int(theta.ravel().shape[1])  # theta数量,401\n",
    "    \n",
    "    # STEP3：计算预测的误差\n",
    "    # your code here  (appro ~ 1 lines)    \n",
    "    error = sigmoid(X * theta.T) - y  # (5000,1)\n",
    "    \n",
    "    # STEP4：根据上面的公式计算梯度\n",
    "    # your code here  (appro ~ 1 lines)\n",
    "    grad = ((X.T * error) / len(X)).T + ((learningRate / len(X)) * theta) # (1,401) !!!此处前面一部分一定要加.T，注意矩阵相加维度需相同\n",
    "    \n",
    "    # STEP5：由于j=0时不需要正则化，所以这里重置一下\n",
    "    # your code here  (appro ~ 1 lines)\n",
    "    grad[0, 0] = np.sum(np.multiply(error, X[:,0])) / len(X) # X[:,0]表示添加的截距一列，即第一列\n",
    "    \n",
    "    return np.array(grad).ravel()"
   ]
  },
  {
   "cell_type": "markdown",
   "metadata": {},
   "source": [
    "现在我们已经定义了代价函数和梯度函数，现在是构建分类器的时候了。 对于这个任务，我们有10个可能的类，并且由于逻辑回归只能一次在2个类之间进行分类，我们需要多类分类的策略。 在本练习中，我们的任务是实现一对一全分类方法，其中具有k个不同类的标签就有k个分类器，每个分类器在“类别 i”和“不是 i”之间决定。 我们将把分类器训练包含在一个函数中，该函数计算10个分类器中的每个分类器的最终权重，并将权重返回为k X（n + 1）数组，其中n是参数数量。"
   ]
  },
  {
   "cell_type": "code",
   "execution_count": 53,
   "metadata": {},
   "outputs": [],
   "source": [
    "from scipy.optimize import minimize\n",
    "\n",
    "def one_vs_all(X, y, num_labels, learning_rate):\n",
    "    rows = X.shape[0]  # 5000条数据\n",
    "    params = X.shape[1]  # 400维特征\n",
    "    \n",
    "    # k X (n + 1) array for the parameters of each of the k classifiers\n",
    "    all_theta = np.zeros((num_labels, params + 1)) # 10*401\n",
    "    \n",
    "    # insert a column of ones at the beginning for the intercept term\n",
    "    X = np.insert(X, 0, values=np.ones(rows), axis=1)  #插了一列1\n",
    "    \n",
    "    # labels are 1-indexed instead of 0-indexed\n",
    "    for i in range(1, num_labels + 1):\n",
    "        theta = np.zeros(params + 1) #(1,401)\n",
    "        y_i = np.array([1 if label == i else 0 for label in y]) # 将y转换为[0,0,0,1],[0,0,1,0],[0,1,0,0],[1,0,0,0]这种形式\n",
    "        y_i = np.reshape(y_i, (rows, 1)) # (5000,1)\n",
    "        \n",
    "        # minimize the objective function\n",
    "        fmin = minimize(fun=cost, x0=theta, args=(X, y_i, learning_rate), method='TNC', jac=gradient) # 参数位置保证正确\n",
    "        all_theta[i-1,:] = fmin.x\n",
    "       \n",
    "    \n",
    "    return all_theta"
   ]
  },
  {
   "cell_type": "markdown",
   "metadata": {},
   "source": [
    "这里需要注意的几点：首先，我们为theta添加了一个额外的参数（与训练数据一列），以计算截距项（常数项）。 其次，我们将y从类标签转换为每个分类器的二进制值（要么是类i，要么不是类i）。 最后，我们使用SciPy的较新优化API来最小化每个分类器的代价函数。 如果指定的话，API将采用目标函数，初始参数集，优化方法和jacobian（渐变）函数。 然后将优化程序找到的参数分配给参数数组。\n",
    "\n",
    "实现向量化代码的一个更具挑战性的部分是正确地写入所有的矩阵，保证维度正确。"
   ]
  },
  {
   "cell_type": "code",
   "execution_count": 54,
   "metadata": {},
   "outputs": [
    {
     "data": {
      "text/plain": [
       "((5000, 401), (5000, 1), (401,), (10, 401))"
      ]
     },
     "execution_count": 54,
     "metadata": {},
     "output_type": "execute_result"
    }
   ],
   "source": [
    "rows = data['X'].shape[0]   # 5000条数据\n",
    "params = data['X'].shape[1]  # 400维特征\n",
    "\n",
    "all_theta = np.zeros((10, params + 1))\n",
    "\n",
    "X = np.insert(data['X'], 0, values=np.ones(rows), axis=1)\n",
    "\n",
    "theta = np.zeros(params + 1)\n",
    "\n",
    "y_0 = np.array([1 if label == 0 else 0 for label in data['y']]) # 标签为0需要单独抽出来，表示为10，其余1-9还是表示1-9\n",
    "y_0 = np.reshape(y_0, (rows, 1)) # 将y_0变为5000*1的矩阵形式，表示为分类label\n",
    "\n",
    "X.shape, y_0.shape, theta.shape, all_theta.shape"
   ]
  },
  {
   "cell_type": "markdown",
   "metadata": {},
   "source": [
    "注意，theta是一维数组，因此当它被转换为计算梯度的代码中的矩阵时，它变为（1×401）矩阵。 我们还检查y中的类标签，以确保它们看起来像我们想象的一致。"
   ]
  },
  {
   "cell_type": "code",
   "execution_count": 55,
   "metadata": {},
   "outputs": [
    {
     "data": {
      "text/plain": [
       "array([ 1,  2,  3,  4,  5,  6,  7,  8,  9, 10], dtype=uint8)"
      ]
     },
     "execution_count": 55,
     "metadata": {},
     "output_type": "execute_result"
    }
   ],
   "source": [
    "np.unique(data['y'])#看下有几类标签"
   ]
  },
  {
   "cell_type": "markdown",
   "metadata": {},
   "source": [
    "让我们确保我们的训练函数正确运行，并且得到合理的输出。"
   ]
  },
  {
   "cell_type": "code",
   "execution_count": 59,
   "metadata": {},
   "outputs": [
    {
     "data": {
      "text/plain": [
       "array([[-2.37857716e+00,  0.00000000e+00,  0.00000000e+00, ...,\n",
       "         1.30737390e-03, -1.45668694e-09,  0.00000000e+00],\n",
       "       [-3.18281165e+00,  0.00000000e+00,  0.00000000e+00, ...,\n",
       "         4.45451212e-03, -5.07850047e-04,  0.00000000e+00],\n",
       "       [-4.76503952e+00,  0.00000000e+00,  0.00000000e+00, ...,\n",
       "        -2.83989380e-05, -2.46164322e-07,  0.00000000e+00],\n",
       "       ...,\n",
       "       [-7.98866420e+00,  0.00000000e+00,  0.00000000e+00, ...,\n",
       "        -9.03550600e-05,  7.01089308e-06,  0.00000000e+00],\n",
       "       [-4.58477171e+00,  0.00000000e+00,  0.00000000e+00, ...,\n",
       "        -1.29638256e-03,  9.42581512e-05,  0.00000000e+00],\n",
       "       [-5.30088414e+00,  0.00000000e+00,  0.00000000e+00, ...,\n",
       "        -1.13121229e-04,  9.26894465e-06,  0.00000000e+00]])"
      ]
     },
     "execution_count": 59,
     "metadata": {},
     "output_type": "execute_result"
    }
   ],
   "source": [
    "all_theta = one_vs_all(data['X'], data['y'], 10, 1)\n",
    "all_theta # (10,401)"
   ]
  },
  {
   "cell_type": "markdown",
   "metadata": {},
   "source": [
    "我们现在准备好最后一步 - 使用训练完毕的分类器预测每个图像的标签。 对于这一步，我们将计算每个类的类概率，对于每个训练样本（使用当然的向量化代码），并将输出类标签为具有最高概率的类。\n",
    "\n",
    "Tip：可以使用np.argmax()函数找到矩阵中指定维度的最大值"
   ]
  },
  {
   "cell_type": "code",
   "execution_count": 68,
   "metadata": {},
   "outputs": [],
   "source": [
    "def predict_all(X, all_theta):\n",
    "    # INPUT：参数值theta，测试数据X\n",
    "    # OUTPUT：预测值\n",
    "    # TODO：对测试数据进行预测\n",
    "    \n",
    "    # STEP1：获取矩阵的维度信息\n",
    "    rows = X.shape[0] # 5000\n",
    "    params = X.shape[1] # 400\n",
    "    num_labels = all_theta.shape[0] # 10\n",
    "    \n",
    "    # STEP2：把矩阵X加入一行1元素作为偏置项\n",
    "    # your code here  (appro ~ 1 lines) \n",
    "    X = np.insert(X, 0, values=np.ones(rows), axis=1) # (5000,401)\n",
    "    \n",
    "    # STEP3：把矩阵X和all_theta转换为numpy型矩阵\n",
    "    # your code here  (appro ~ 2 lines)\n",
    "    X = np.array(X)\n",
    "    all_theta = np.array(all_theta) # (10,401) T:(401,10)\n",
    "    \n",
    "    # STEP4：计算样本属于每一类的概率\n",
    "    # your code here  (appro ~ 1 lines)\n",
    "    h = sigmoid(X @ all_theta.T)\n",
    "    \n",
    "    # STEP5：找到每个样本中预测概率最大的值\n",
    "    # your code here  (appro ~ 1 lines)\n",
    "    h_argmax = np.argmax(h, axis=1) # argmax函数给出行或者列方向上最大值的index,从0开始。每列上sigmoid函数值最大即概率最大，属于那一类的概率也最大，即归属于那一类\n",
    "    \n",
    "    # STEP6：因为我们的数组是零索引的，所以我们需要为真正的标签+1\n",
    "    h_argmax = h_argmax + 1\n",
    "    \n",
    "    return h_argmax"
   ]
  },
  {
   "cell_type": "markdown",
   "metadata": {},
   "source": [
    "现在我们可以使用predict_all函数为每个实例生成类预测，看看我们的分类器是如何工作的。"
   ]
  },
  {
   "cell_type": "code",
   "execution_count": 69,
   "metadata": {},
   "outputs": [
    {
     "name": "stdout",
     "output_type": "stream",
     "text": [
      "accuracy = 94.48%\n"
     ]
    }
   ],
   "source": [
    "y_pred = predict_all(data['X'], all_theta) # y_pred是一个属于那一类的label矩阵,(5000,1)\n",
    "correct = [1 if a == b else 0 for (a, b) in zip(y_pred, data['y'])] # correct bool矩阵\n",
    "accuracy = (sum(map(int, correct)) / float(len(correct))) # map函数对correct矩阵中每个元素做int函数映射,转成1或者0计算sum值\n",
    "print ('accuracy = {0}%'.format(accuracy * 100))"
   ]
  },
  {
   "cell_type": "markdown",
   "metadata": {},
   "source": [
    "如果你的代码正确，这里输出的准确率应为94.46%"
   ]
  },
  {
   "cell_type": "markdown",
   "metadata": {},
   "source": [
    "在下一个练习中，我们将介绍如何从头开始实现前馈神经网络。"
   ]
  }
 ],
 "metadata": {
  "kernelspec": {
   "display_name": "Python 3",
   "language": "python",
   "name": "python3"
  },
  "language_info": {
   "codemirror_mode": {
    "name": "ipython",
    "version": 3
   },
   "file_extension": ".py",
   "mimetype": "text/x-python",
   "name": "python",
   "nbconvert_exporter": "python",
   "pygments_lexer": "ipython3",
   "version": "3.7.2"
  }
 },
 "nbformat": 4,
 "nbformat_minor": 1
}
