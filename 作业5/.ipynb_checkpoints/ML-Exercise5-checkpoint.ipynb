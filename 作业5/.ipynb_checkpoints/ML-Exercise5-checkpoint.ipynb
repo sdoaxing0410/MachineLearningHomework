{
 "cells": [
  {
   "cell_type": "markdown",
   "metadata": {},
   "source": [
    "# 编程作业 5 - 偏差和方差"
   ]
  },
  {
   "cell_type": "markdown",
   "metadata": {},
   "source": [
    "这次练习我们将会看到如何使用课上的方法改进机器学习算法，包括过拟合、欠拟合的的状态判断以及学习曲线的绘制。"
   ]
  },
  {
   "cell_type": "code",
   "execution_count": 1,
   "metadata": {},
   "outputs": [],
   "source": [
    "import numpy as np\n",
    "import scipy.io as sio\n",
    "import scipy.optimize as opt\n",
    "import pandas as pd\n",
    "import matplotlib.pyplot as plt\n",
    "import seaborn as sns\n",
    "import warnings\n",
    "warnings.filterwarnings('ignore')"
   ]
  },
  {
   "cell_type": "code",
   "execution_count": 2,
   "metadata": {},
   "outputs": [],
   "source": [
    "def load_data():\n",
    "    \"\"\"for ex5\n",
    "    d['X'] shape = (12, 1)\n",
    "    pandas has trouble taking this 2d ndarray to construct a dataframe, so I ravel\n",
    "    the results\n",
    "    \"\"\"\n",
    "    d = sio.loadmat('ex5data1.mat')\n",
    "    return map(np.ravel, [d['X'], d['y'], d['Xval'], d['yval'], d['Xtest'], d['ytest']]) # 把每个二维数组拉成一维数组"
   ]
  },
  {
   "cell_type": "code",
   "execution_count": 4,
   "metadata": {},
   "outputs": [
    {
     "name": "stdout",
     "output_type": "stream",
     "text": [
      "(12,)\n"
     ]
    }
   ],
   "source": [
    "X, y, Xval, yval, Xtest, ytest = load_data()\n",
    "print(X.shape)"
   ]
  },
  {
   "cell_type": "code",
   "execution_count": 6,
   "metadata": {},
   "outputs": [
    {
     "name": "stdout",
     "output_type": "stream",
     "text": [
      "    water_level       flow\n",
      "0    -15.936758   2.134311\n",
      "1    -29.152979   1.173257\n",
      "2     36.189549  34.359109\n",
      "3     37.492187  36.837955\n",
      "4    -48.058829   2.808965\n",
      "5     -8.941458   2.121072\n",
      "6     15.307793  14.710268\n",
      "7    -34.706266   2.614184\n",
      "8      1.389154   3.740172\n",
      "9    -44.383760   3.731691\n",
      "10     7.013502   7.627659\n",
      "11    22.762749  22.752428\n"
     ]
    },
    {
     "data": {
      "image/png": "[encoded data removed]",
      "text/plain": [
       "<Figure size 504x504 with 1 Axes>"
      ]
     },
     "metadata": {
      "needs_background": "light"
     },
     "output_type": "display_data"
    }
   ],
   "source": [
    "# DataFrame要么是传入二维数组，要么是传入字典（value是1维数组或嵌套的标量）\n",
    "df = pd.DataFrame({'water_level':X, 'flow':y})\n",
    "print(df)\n",
    "\n",
    "sns.lmplot('water_level', 'flow', data=df, fit_reg=False, height=7)\n",
    "plt.show()"
   ]
  },
  {
   "cell_type": "code",
   "execution_count": 7,
   "metadata": {},
   "outputs": [
    {
     "data": {
      "text/plain": [
       "array([[  1.        , -15.93675813],\n",
       "       [  1.        , -29.15297922],\n",
       "       [  1.        ,  36.18954863],\n",
       "       [  1.        ,  37.49218733],\n",
       "       [  1.        , -48.05882945],\n",
       "       [  1.        ,  -8.94145794],\n",
       "       [  1.        ,  15.30779289],\n",
       "       [  1.        , -34.70626581],\n",
       "       [  1.        ,   1.38915437],\n",
       "       [  1.        , -44.38375985],\n",
       "       [  1.        ,   7.01350208],\n",
       "       [  1.        ,  22.76274892]])"
      ]
     },
     "execution_count": 7,
     "metadata": {},
     "output_type": "execute_result"
    }
   ],
   "source": [
    "# nmupy一维数组的shape[0]是数组元素的个数\n",
    "X, Xval, Xtest = [np.insert(x.reshape(x.shape[0], 1), 0, np.ones(x.shape[0]), axis=1) for x in (X, Xval, Xtest)]\n",
    "X"
   ]
  },
  {
   "cell_type": "markdown",
   "metadata": {},
   "source": [
    "# 代价函数\n",
    "<img style=\"float: left;\" src=\"img/linear_cost.png\">"
   ]
  },
  {
   "cell_type": "code",
   "execution_count": 31,
   "metadata": {},
   "outputs": [],
   "source": [
    "def cost(theta, X, y):\n",
    "# INPUT：参数值theta，数据X,标签y\n",
    "# OUTPUT：当前参数值下代价函数\n",
    "# TODO：根据参数和输入的数据计算代价函数\n",
    "    \n",
    "    # STEP1：获取样本个数\n",
    "    # your code here  (appro ~ 1 lines)\n",
    "    m = X.shape[0]\n",
    "    \n",
    "    # STEP2：计算代价函数\n",
    "    # your code here  (appro ~ 3 lines)\n",
    "\n",
    "    prod = np.dot(X, theta) - y\n",
    "    cost = (float(1) / (2 * m)) * np.power(prod, 2).sum()\n",
    "\n",
    "    return cost"
   ]
  },
  {
   "cell_type": "code",
   "execution_count": 32,
   "metadata": {},
   "outputs": [
    {
     "data": {
      "text/plain": [
       "303.9515255535976"
      ]
     },
     "execution_count": 32,
     "metadata": {},
     "output_type": "execute_result"
    }
   ],
   "source": [
    "theta = np.ones(X.shape[1])\n",
    "cost(theta, X, y)"
   ]
  },
  {
   "cell_type": "markdown",
   "metadata": {},
   "source": [
    "# 梯度\n",
    "<img style=\"float: left;\" src=\"img/linear_gradient.png\">"
   ]
  },
  {
   "cell_type": "code",
   "execution_count": 33,
   "metadata": {},
   "outputs": [],
   "source": [
    "def gradient(theta, X, y):\n",
    "# INPUT：参数值theta，数据X,标签y\n",
    "# OUTPUT：当前参数值下梯度\n",
    "# TODO：根据参数和输入的数据计算梯度  \n",
    "    \n",
    "    # STEP1：获取样本个数\n",
    "    # your code here  (appro ~ 1 lines)\n",
    "    m = X.shape[0]\n",
    "    \n",
    "    # STEP2：计算梯度\n",
    "    # your code here  (appro ~ 1 lines)\n",
    "    grad = (X.T @ (np.dot(X, theta) - y)) / m\n",
    "\n",
    "    return grad"
   ]
  },
  {
   "cell_type": "code",
   "execution_count": 34,
   "metadata": {},
   "outputs": [
    {
     "data": {
      "text/plain": [
       "array([-15.30301567, 598.16741084])"
      ]
     },
     "execution_count": 34,
     "metadata": {},
     "output_type": "execute_result"
    }
   ],
   "source": [
    "gradient(theta, X, y)"
   ]
  },
  {
   "cell_type": "markdown",
   "metadata": {},
   "source": [
    "# 正则化梯度与代价函数\n",
    "<img style=\"float: left;\" src=\"img/linear_reg_gradient.png\">"
   ]
  },
  {
   "cell_type": "code",
   "execution_count": 35,
   "metadata": {},
   "outputs": [],
   "source": [
    "def regularized_gradient(theta, X, y, l=1):\n",
    "# INPUT：参数值theta，数据X,标签y\n",
    "# OUTPUT：当前参数值下梯度\n",
    "# TODO：根据参数和输入的数据计算梯度 \n",
    "    \n",
    "    # STEP1：获取样本个数\n",
    "    # your code here  (appro ~ 1 lines)\n",
    "    m = X.shape[0]\n",
    "    \n",
    "    # STEP2：计算正则化梯度\n",
    "    regularized_term = theta.copy()  # same shape as theta\n",
    "    regularized_term[0] = 0  # don't regularize intercept theta\n",
    "    # your code here  (appro ~ 1 lines)\n",
    "    regularized_term = (l / m) * regularized_term\n",
    "\n",
    "    return gradient(theta, X, y) + regularized_term"
   ]
  },
  {
   "cell_type": "code",
   "execution_count": 36,
   "metadata": {},
   "outputs": [
    {
     "data": {
      "text/plain": [
       "array([-15.30301567, 598.25074417])"
      ]
     },
     "execution_count": 36,
     "metadata": {},
     "output_type": "execute_result"
    }
   ],
   "source": [
    "regularized_gradient(theta, X, y)"
   ]
  },
  {
   "cell_type": "code",
   "execution_count": 37,
   "metadata": {},
   "outputs": [],
   "source": [
    "def regularized_cost(theta, X, y, l=1):\n",
    "    m = X.shape[0]\n",
    "\n",
    "    regularized_term = (l / (2 * m)) * np.power(theta[1:], 2).sum() #theta部分正则化是从1开始的，按平方计算\n",
    "\n",
    "    return cost(theta, X, y) + regularized_term"
   ]
  },
  {
   "cell_type": "markdown",
   "metadata": {},
   "source": [
    "# 拟合数据\n",
    "> 正则化项 $\\lambda=0$"
   ]
  },
  {
   "cell_type": "code",
   "execution_count": 38,
   "metadata": {},
   "outputs": [],
   "source": [
    "def linear_regression_np(X, y, l=1):\n",
    "# INPUT：数据X,标签y，正则化参数l\n",
    "# OUTPUT：当前参数值下梯度\n",
    "# TODO：根据参数和输入的数据计算梯度 \n",
    "    # STEP1：初始化参数\n",
    "    theta = np.ones(X.shape[1])\n",
    "    \n",
    "    # STEP2：调用优化算法拟合参数\n",
    "    # your code here  (appro ~ 1 lines)\n",
    "    #     参数：\n",
    "    #     fun ：优化的目标函数\n",
    "    #     x0 ：初值，一维数组，shape (n,)\n",
    "    #     args ： 元组，可选，额外传递给优化函数的参数\n",
    "    #     method：求解的算法，选择TNC则和fmin_tnc()类似\n",
    "    #     jac：返回梯度向量的函数\n",
    "    res = opt.minimize(fun=regularized_cost,\n",
    "                       x0=theta,\n",
    "                       args=(X, y, l),\n",
    "                       method='TNC',\n",
    "                       jac=regularized_gradient,\n",
    "                       options={'disp': True})\n",
    "    return res\n"
   ]
  },
  {
   "cell_type": "code",
   "execution_count": 39,
   "metadata": {},
   "outputs": [],
   "source": [
    "theta = np.ones(X.shape[0])\n",
    "\n",
    "final_theta = linear_regression_np(X, y, l=0).get('x')"
   ]
  },
  {
   "cell_type": "code",
   "execution_count": 44,
   "metadata": {},
   "outputs": [
    {
     "data": {
      "image/png": "[encoded data removed]",
      "text/plain": [
       "<Figure size 432x288 with 1 Axes>"
      ]
     },
     "metadata": {
      "needs_background": "light"
     },
     "output_type": "display_data"
    }
   ],
   "source": [
    "b = final_theta[0] # intercept\n",
    "m = final_theta[1] # slope\n",
    "\n",
    "plt.scatter(X[:,1], y, label=\"Training data\")\n",
    "plt.plot(X[:, 1], X[:, 1]*m + b, label=\"Prediction\")\n",
    "plt.legend(loc=2) #loc：位置， 'upper left'   : 2\n",
    "plt.show()"
   ]
  },
  {
   "cell_type": "code",
   "execution_count": 45,
   "metadata": {},
   "outputs": [],
   "source": [
    "training_cost, cv_cost = [], []"
   ]
  },
  {
   "cell_type": "markdown",
   "metadata": {},
   "source": [
    "1.使用训练集的子集来拟合应模型\n",
    "\n",
    "2.在计算训练代价和交叉验证代价时，没有用正则化\n",
    "\n",
    "3.记住使用相同的训练集子集来计算训练代价\n",
    "\n",
    "TIP：向数组里添加新元素可使用append函数"
   ]
  },
  {
   "cell_type": "code",
   "execution_count": 51,
   "metadata": {},
   "outputs": [
    {
     "name": "stdout",
     "output_type": "stream",
     "text": [
      "8.631534185484672e-18\n",
      "1.1982973737990733e-17\n",
      "3.2865950455012705\n",
      "2.842677689399799\n",
      "13.154048809114986\n",
      "19.443962512495503\n",
      "20.098521655088927\n",
      "18.172858695200034\n",
      "22.60940542495472\n",
      "23.261461592611827\n",
      "24.317249588044316\n",
      "22.373906495108912\n"
     ]
    }
   ],
   "source": [
    "# TODO：计算训练代价和交叉验证集代价\n",
    "# STEP1：获取样本个数，遍历每个样本\n",
    "m = X.shape[0]\n",
    "for i in range(1, m+1):\n",
    "    # STEP2：计算当前样本的代价\n",
    "    res = linear_regression_np(X[:i, :], y[:i], l=0)\n",
    "    # your code here  (appro ~ 2 lines)\n",
    "    tc = regularized_cost(res.x, X[:i, :], y[:i], l=0) # res.x 求解到的theta参数\n",
    "    cv = regularized_cost(res.x, Xval, yval, l=0)\n",
    "    print(tc)\n",
    "    \n",
    "    # STEP3：把计算结果存储至预先定义的数组training_cost, cv_cost中\n",
    "    # your code here  (appro ~ 2 lines)\n",
    "    training_cost.append(tc)\n",
    "    cv_cost.append(cv)"
   ]
  },
  {
   "cell_type": "code",
   "execution_count": 47,
   "metadata": {},
   "outputs": [
    {
     "data": {
      "image/png": "[encoded data removed]",
      "text/plain": [
       "<Figure size 432x288 with 1 Axes>"
      ]
     },
     "metadata": {
      "needs_background": "light"
     },
     "output_type": "display_data"
    }
   ],
   "source": [
    "plt.plot(np.arange(1, m+1), training_cost, label='training cost')\n",
    "plt.plot(np.arange(1, m+1), cv_cost, label='cv cost')\n",
    "plt.legend(loc=1)\n",
    "plt.show()"
   ]
  },
  {
   "cell_type": "markdown",
   "metadata": {},
   "source": [
    "这个模型拟合不太好, **欠拟合了**"
   ]
  },
  {
   "cell_type": "markdown",
   "metadata": {},
   "source": [
    "# 创建多项式特征"
   ]
  },
  {
   "cell_type": "code",
   "execution_count": 62,
   "metadata": {},
   "outputs": [],
   "source": [
    "def prepare_poly_data(*args, power):\n",
    "    \"\"\"\n",
    "    args: keep feeding in X, Xval, or Xtest\n",
    "        will return in the same order 可变参数\n",
    "    \"\"\"\n",
    "    def prepare(x): # 数据处理\n",
    "        # 特征映射\n",
    "        df = poly_features(x, power=power)\n",
    "\n",
    "        # 归一化处理\n",
    "        ndarr = normalize_feature(df).as_matrix()\n",
    "\n",
    "        # 添加偏置项\n",
    "        return np.insert(ndarr, 0, np.ones(ndarr.shape[0]), axis=1)\n",
    "\n",
    "    return [prepare(x) for x in args]"
   ]
  },
  {
   "cell_type": "code",
   "execution_count": 63,
   "metadata": {},
   "outputs": [],
   "source": [
    "def poly_features(x, power, as_ndarray=False):  #特征映射\n",
    "    data = {'f{}'.format(i): np.power(x, i) for i in range(1, power + 1)} # {'f1' : [...], 'f2' : [...], 'f3': [...]}\n",
    "    df = pd.DataFrame(data)\n",
    "\n",
    "    return df.as_matrix() if as_ndarray else df\n"
   ]
  },
  {
   "cell_type": "code",
   "execution_count": 64,
   "metadata": {},
   "outputs": [],
   "source": [
    "X, y, Xval, yval, Xtest, ytest = load_data()"
   ]
  },
  {
   "cell_type": "code",
   "execution_count": 65,
   "metadata": {},
   "outputs": [
    {
     "data": {
      "text/html": [
       "<div>\n",
       "<style scoped>\n",
       "    .dataframe tbody tr th:only-of-type {\n",
       "        vertical-align: middle;\n",
       "    }\n",
       "\n",
       "    .dataframe tbody tr th {\n",
       "        vertical-align: top;\n",
       "    }\n",
       "\n",
       "    .dataframe thead th {\n",
       "        text-align: right;\n",
       "    }\n",
       "</style>\n",
       "<table border=\"1\" class=\"dataframe\">\n",
       "  <thead>\n",
       "    <tr style=\"text-align: right;\">\n",
       "      <th></th>\n",
       "      <th>f1</th>\n",
       "      <th>f2</th>\n",
       "      <th>f3</th>\n",
       "    </tr>\n",
       "  </thead>\n",
       "  <tbody>\n",
       "    <tr>\n",
       "      <th>0</th>\n",
       "      <td>-15.936758</td>\n",
       "      <td>253.980260</td>\n",
       "      <td>-4047.621971</td>\n",
       "    </tr>\n",
       "    <tr>\n",
       "      <th>1</th>\n",
       "      <td>-29.152979</td>\n",
       "      <td>849.896197</td>\n",
       "      <td>-24777.006175</td>\n",
       "    </tr>\n",
       "    <tr>\n",
       "      <th>2</th>\n",
       "      <td>36.189549</td>\n",
       "      <td>1309.683430</td>\n",
       "      <td>47396.852168</td>\n",
       "    </tr>\n",
       "    <tr>\n",
       "      <th>3</th>\n",
       "      <td>37.492187</td>\n",
       "      <td>1405.664111</td>\n",
       "      <td>52701.422173</td>\n",
       "    </tr>\n",
       "    <tr>\n",
       "      <th>4</th>\n",
       "      <td>-48.058829</td>\n",
       "      <td>2309.651088</td>\n",
       "      <td>-110999.127750</td>\n",
       "    </tr>\n",
       "    <tr>\n",
       "      <th>5</th>\n",
       "      <td>-8.941458</td>\n",
       "      <td>79.949670</td>\n",
       "      <td>-714.866612</td>\n",
       "    </tr>\n",
       "    <tr>\n",
       "      <th>6</th>\n",
       "      <td>15.307793</td>\n",
       "      <td>234.328523</td>\n",
       "      <td>3587.052500</td>\n",
       "    </tr>\n",
       "    <tr>\n",
       "      <th>7</th>\n",
       "      <td>-34.706266</td>\n",
       "      <td>1204.524887</td>\n",
       "      <td>-41804.560890</td>\n",
       "    </tr>\n",
       "    <tr>\n",
       "      <th>8</th>\n",
       "      <td>1.389154</td>\n",
       "      <td>1.929750</td>\n",
       "      <td>2.680720</td>\n",
       "    </tr>\n",
       "    <tr>\n",
       "      <th>9</th>\n",
       "      <td>-44.383760</td>\n",
       "      <td>1969.918139</td>\n",
       "      <td>-87432.373590</td>\n",
       "    </tr>\n",
       "    <tr>\n",
       "      <th>10</th>\n",
       "      <td>7.013502</td>\n",
       "      <td>49.189211</td>\n",
       "      <td>344.988637</td>\n",
       "    </tr>\n",
       "    <tr>\n",
       "      <th>11</th>\n",
       "      <td>22.762749</td>\n",
       "      <td>518.142738</td>\n",
       "      <td>11794.353058</td>\n",
       "    </tr>\n",
       "  </tbody>\n",
       "</table>\n",
       "</div>"
      ],
      "text/plain": [
       "           f1           f2             f3\n",
       "0  -15.936758   253.980260   -4047.621971\n",
       "1  -29.152979   849.896197  -24777.006175\n",
       "2   36.189549  1309.683430   47396.852168\n",
       "3   37.492187  1405.664111   52701.422173\n",
       "4  -48.058829  2309.651088 -110999.127750\n",
       "5   -8.941458    79.949670    -714.866612\n",
       "6   15.307793   234.328523    3587.052500\n",
       "7  -34.706266  1204.524887  -41804.560890\n",
       "8    1.389154     1.929750       2.680720\n",
       "9  -44.383760  1969.918139  -87432.373590\n",
       "10   7.013502    49.189211     344.988637\n",
       "11  22.762749   518.142738   11794.353058"
      ]
     },
     "execution_count": 65,
     "metadata": {},
     "output_type": "execute_result"
    }
   ],
   "source": [
    "poly_features(X, power=3) # x, x^2, x^3"
   ]
  },
  {
   "cell_type": "markdown",
   "metadata": {},
   "source": [
    "# 准备多项式回归数据\n",
    "1. 扩展特征到 8阶,或者你需要的阶数\n",
    "2. 使用 **归一化** 来合并 $x^n$,因为8阶x^8=40^8=6.5*10^12\n",
    "3. 不要忘记添加偏置项"
   ]
  },
  {
   "cell_type": "code",
   "execution_count": 66,
   "metadata": {},
   "outputs": [],
   "source": [
    "def normalize_feature(df):\n",
    "    \"\"\"Applies function along input axis(default 0) of DataFrame.\"\"\"\n",
    "    return df.apply(lambda column: (column - column.mean()) / column.std()) # z-score归一化：将数值范围缩放到0附近, 但没有改变数据分布"
   ]
  },
  {
   "cell_type": "code",
   "execution_count": 67,
   "metadata": {},
   "outputs": [
    {
     "data": {
      "text/plain": [
       "array([[ 1.00000000e+00, -3.62140776e-01, -7.55086688e-01,\n",
       "         1.82225876e-01, -7.06189908e-01,  3.06617917e-01,\n",
       "        -5.90877673e-01,  3.44515797e-01, -5.08481165e-01],\n",
       "       [ 1.00000000e+00, -8.03204845e-01,  1.25825266e-03,\n",
       "        -2.47936991e-01, -3.27023420e-01,  9.33963187e-02,\n",
       "        -4.35817606e-01,  2.55416116e-01, -4.48912493e-01],\n",
       "       [ 1.00000000e+00,  1.37746700e+00,  5.84826715e-01,\n",
       "         1.24976856e+00,  2.45311974e-01,  9.78359696e-01,\n",
       "        -1.21556976e-02,  7.56568484e-01, -1.70352114e-01]])"
      ]
     },
     "execution_count": 67,
     "metadata": {},
     "output_type": "execute_result"
    }
   ],
   "source": [
    "X_poly, Xval_poly, Xtest_poly= prepare_poly_data(X, Xval, Xtest, power=8)\n",
    "X_poly[:3, :]"
   ]
  },
  {
   "cell_type": "markdown",
   "metadata": {},
   "source": [
    "# 画出学习曲线\n",
    "> 首先，我们没有使用正则化，所以 $\\lambda=0$"
   ]
  },
  {
   "cell_type": "code",
   "execution_count": 75,
   "metadata": {},
   "outputs": [],
   "source": [
    "def plot_learning_curve(X, y, Xval, yval, l=0):\n",
    "# INPUT：训练数据集X,y，交叉验证集Xval，yval，正则化参数l\n",
    "# OUTPUT：当前参数值下梯度\n",
    "# TODO：根据参数和输入的数据计算梯度 \n",
    "    \n",
    "    # STEP1：初始化参数，获取样本个数，开始遍历\n",
    "    training_cost, cv_cost = [], []\n",
    "    m = X.shape[0]\n",
    "    for i in range(1, m + 1):\n",
    "        # STEP2：调用之前写好的拟合数据函数进行数据拟合\n",
    "        # your code here  (appro ~ 1 lines)\n",
    "        res = linear_regression_np(X[:i, :], y[:i], l)\n",
    "        # STEP3：计算样本代价\n",
    "        # your code here  (appro ~ 1 lines)\n",
    "        tc = regularized_cost(res.x, X[:i, :], y[:i], l)\n",
    "        cv = regularized_cost(res.x, Xval, yval, l)\n",
    "        # STEP3：把计算结果存储至预先定义的数组training_cost, cv_cost中\n",
    "        # your code here  (appro ~ 2 lines)\n",
    "        training_cost.append(tc)\n",
    "        cv_cost.append(cv)\n",
    "        \n",
    "\n",
    "    plt.plot(np.arange(1, m + 1), training_cost, label='training cost')\n",
    "    plt.plot(np.arange(1, m + 1), cv_cost, label='cv cost')\n",
    "    plt.legend(loc=1)\n"
   ]
  },
  {
   "cell_type": "code",
   "execution_count": 76,
   "metadata": {},
   "outputs": [
    {
     "data": {
      "image/png": "[encoded data removed]",
      "text/plain": [
       "<Figure size 432x288 with 1 Axes>"
      ]
     },
     "metadata": {
      "needs_background": "light"
     },
     "output_type": "display_data"
    }
   ],
   "source": [
    "plot_learning_curve(X_poly, y, Xval_poly, yval, l=0)\n",
    "plt.show()"
   ]
  },
  {
   "cell_type": "markdown",
   "metadata": {},
   "source": [
    "你可以看到训练的代价太低了，不真实. 这是 **过拟合**了"
   ]
  },
  {
   "cell_type": "markdown",
   "metadata": {},
   "source": [
    "# try $\\lambda=1$"
   ]
  },
  {
   "cell_type": "code",
   "execution_count": 77,
   "metadata": {},
   "outputs": [
    {
     "data": {
      "image/png": "[encoded data removed]",
      "text/plain": [
       "<Figure size 432x288 with 1 Axes>"
      ]
     },
     "metadata": {
      "needs_background": "light"
     },
     "output_type": "display_data"
    }
   ],
   "source": [
    "plot_learning_curve(X_poly, y, Xval_poly, yval, l=1)\n",
    "plt.show()"
   ]
  },
  {
   "cell_type": "markdown",
   "metadata": {},
   "source": [
    "\n",
    "训练代价增加了些，不再是0了。\n",
    "也就是说我们减轻**过拟合**"
   ]
  },
  {
   "cell_type": "markdown",
   "metadata": {},
   "source": [
    "# try $\\lambda=100$"
   ]
  },
  {
   "cell_type": "code",
   "execution_count": 78,
   "metadata": {},
   "outputs": [
    {
     "data": {
      "image/png": "[encoded data removed]",
      "text/plain": [
       "<Figure size 432x288 with 1 Axes>"
      ]
     },
     "metadata": {
      "needs_background": "light"
     },
     "output_type": "display_data"
    }
   ],
   "source": [
    "plot_learning_curve(X_poly, y, Xval_poly, yval, l=100)\n",
    "plt.show()"
   ]
  },
  {
   "cell_type": "markdown",
   "metadata": {},
   "source": [
    "太多正则化了.  \n",
    "变成 **欠拟合**状态"
   ]
  },
  {
   "cell_type": "markdown",
   "metadata": {},
   "source": [
    "# 找到最佳的 $\\lambda$"
   ]
  },
  {
   "cell_type": "code",
   "execution_count": 79,
   "metadata": {},
   "outputs": [],
   "source": [
    "l_candidate = [0, 0.001, 0.003, 0.01, 0.03, 0.1, 0.3, 1, 3, 10]\n",
    "training_cost, cv_cost = [], []"
   ]
  },
  {
   "cell_type": "code",
   "execution_count": 82,
   "metadata": {},
   "outputs": [
    {
     "name": "stdout",
     "output_type": "stream",
     "text": [
      "[13.383683359369439, 10.266117478389095, 14.850354514457456, 15.085043062870783, 12.044042292350893, 7.999536187338899, 5.396677321532687, 4.696663548477304, 5.005830664198135, 13.003209955652041, 13.383683359369439]\n",
      "[13.383683359369439, 10.266117478389095, 14.850354514457456, 15.085043062870783, 12.044042292350893, 7.999536187338899, 5.396677321532687, 4.696663548477304, 5.005830664198135, 13.003209955652041, 13.383683359369439, 10.266117478389095]\n",
      "[13.383683359369439, 10.266117478389095, 14.850354514457456, 15.085043062870783, 12.044042292350893, 7.999536187338899, 5.396677321532687, 4.696663548477304, 5.005830664198135, 13.003209955652041, 13.383683359369439, 10.266117478389095, 14.850354514457456]\n",
      "[13.383683359369439, 10.266117478389095, 14.850354514457456, 15.085043062870783, 12.044042292350893, 7.999536187338899, 5.396677321532687, 4.696663548477304, 5.005830664198135, 13.003209955652041, 13.383683359369439, 10.266117478389095, 14.850354514457456, 15.085043062870783]\n",
      "[13.383683359369439, 10.266117478389095, 14.850354514457456, 15.085043062870783, 12.044042292350893, 7.999536187338899, 5.396677321532687, 4.696663548477304, 5.005830664198135, 13.003209955652041, 13.383683359369439, 10.266117478389095, 14.850354514457456, 15.085043062870783, 12.044042292350893]\n",
      "[13.383683359369439, 10.266117478389095, 14.850354514457456, 15.085043062870783, 12.044042292350893, 7.999536187338899, 5.396677321532687, 4.696663548477304, 5.005830664198135, 13.003209955652041, 13.383683359369439, 10.266117478389095, 14.850354514457456, 15.085043062870783, 12.044042292350893, 7.999536187338899]\n",
      "[13.383683359369439, 10.266117478389095, 14.850354514457456, 15.085043062870783, 12.044042292350893, 7.999536187338899, 5.396677321532687, 4.696663548477304, 5.005830664198135, 13.003209955652041, 13.383683359369439, 10.266117478389095, 14.850354514457456, 15.085043062870783, 12.044042292350893, 7.999536187338899, 5.396677321532687]\n",
      "[13.383683359369439, 10.266117478389095, 14.850354514457456, 15.085043062870783, 12.044042292350893, 7.999536187338899, 5.396677321532687, 4.696663548477304, 5.005830664198135, 13.003209955652041, 13.383683359369439, 10.266117478389095, 14.850354514457456, 15.085043062870783, 12.044042292350893, 7.999536187338899, 5.396677321532687, 4.696663548477304]\n",
      "[13.383683359369439, 10.266117478389095, 14.850354514457456, 15.085043062870783, 12.044042292350893, 7.999536187338899, 5.396677321532687, 4.696663548477304, 5.005830664198135, 13.003209955652041, 13.383683359369439, 10.266117478389095, 14.850354514457456, 15.085043062870783, 12.044042292350893, 7.999536187338899, 5.396677321532687, 4.696663548477304, 5.005830664198135]\n",
      "[13.383683359369439, 10.266117478389095, 14.850354514457456, 15.085043062870783, 12.044042292350893, 7.999536187338899, 5.396677321532687, 4.696663548477304, 5.005830664198135, 13.003209955652041, 13.383683359369439, 10.266117478389095, 14.850354514457456, 15.085043062870783, 12.044042292350893, 7.999536187338899, 5.396677321532687, 4.696663548477304, 5.005830664198135, 13.003209955652041]\n"
     ]
    }
   ],
   "source": [
    "for l in l_candidate:\n",
    "    res = linear_regression_np(X_poly, y, l)\n",
    "    \n",
    "    tc = cost(res.x, X_poly, y)\n",
    "    cv = cost(res.x, Xval_poly, yval)\n",
    "    \n",
    "    training_cost.append(tc)\n",
    "    cv_cost.append(cv)\n",
    "    print(cv_cost)"
   ]
  },
  {
   "cell_type": "code",
   "execution_count": 81,
   "metadata": {},
   "outputs": [
    {
     "data": {
      "image/png": "[encoded data removed]",
      "text/plain": [
       "<Figure size 432x288 with 1 Axes>"
      ]
     },
     "metadata": {
      "needs_background": "light"
     },
     "output_type": "display_data"
    }
   ],
   "source": [
    "plt.plot(l_candidate, training_cost, label='training')\n",
    "plt.plot(l_candidate, cv_cost, label='cross validation')\n",
    "plt.legend(loc=2)\n",
    "\n",
    "plt.xlabel('lambda')\n",
    "\n",
    "plt.ylabel('cost')\n",
    "plt.show()"
   ]
  },
  {
   "cell_type": "code",
   "execution_count": 83,
   "metadata": {},
   "outputs": [
    {
     "data": {
      "text/plain": [
       "1"
      ]
     },
     "execution_count": 83,
     "metadata": {},
     "output_type": "execute_result"
    }
   ],
   "source": [
    "# best cv I got from all those candidates\n",
    "l_candidate[np.argmin(cv_cost)] # 此处的lambda=1即为最后得到的最佳值"
   ]
  },
  {
   "cell_type": "code",
   "execution_count": 84,
   "metadata": {},
   "outputs": [
    {
     "name": "stdout",
     "output_type": "stream",
     "text": [
      "test cost(l=0) = 10.122298845834932\n",
      "test cost(l=0.001) = 10.989357236615055\n",
      "test cost(l=0.003) = 11.267310926091268\n",
      "test cost(l=0.01) = 10.881623900868236\n",
      "test cost(l=0.03) = 10.022327455962358\n",
      "test cost(l=0.1) = 8.632062332318977\n",
      "test cost(l=0.3) = 7.336513212074589\n",
      "test cost(l=1) = 7.466265914249741\n",
      "test cost(l=3) = 11.64393171303791\n",
      "test cost(l=10) = 27.7150802906621\n"
     ]
    }
   ],
   "source": [
    "# use test data to compute the cost 这边只是写的玩的，一般不会在实际中在test数据集上搞\n",
    "for l in l_candidate:\n",
    "    theta = linear_regression_np(X_poly, y, l).x\n",
    "    print('test cost(l={}) = {}'.format(l, cost(theta, Xtest_poly, ytest)))"
   ]
  },
  {
   "cell_type": "markdown",
   "metadata": {},
   "source": [
    "调参后， $\\lambda = 0.3$ 是最优选择，这个时候测试代价最小"
   ]
  }
 ],
 "metadata": {
  "anaconda-cloud": {},
  "kernelspec": {
   "display_name": "Python 3",
   "language": "python",
   "name": "python3"
  },
  "language_info": {
   "codemirror_mode": {
    "name": "ipython",
    "version": 3
   },
   "file_extension": ".py",
   "mimetype": "text/x-python",
   "name": "python",
   "nbconvert_exporter": "python",
   "pygments_lexer": "ipython3",
   "version": "3.7.2"
  }
 },
 "nbformat": 4,
 "nbformat_minor": 1
}
